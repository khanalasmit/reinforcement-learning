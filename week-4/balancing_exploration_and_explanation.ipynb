{
 "cells": [
  {
   "cell_type": "markdown",
   "id": "87933581",
   "metadata": {},
   "source": [
    "## **BALANCING EXPLORATION AND EXPLOTATION**"
   ]
  },
  {
   "cell_type": "markdown",
   "id": "d6a148f1",
   "metadata": {},
   "source": [
    "* **Training with random actions**\n",
    "    - Agent explores environment\n",
    "    - No strategy optimization based on learned knowledge\n",
    "    - Agent uses knowledge when training done\n"
   ]
  },
  {
   "cell_type": "markdown",
   "id": "7b18a213",
   "metadata": {},
   "source": [
    "### **Exploration-Exploitation trade-off**\n",
    "* Balances exploration and exploitation\n",
    "* Continious exploration prevents strategy refinement\n",
    "* Exclusive exploitation misses undiscovered opportunites\n"
   ]
  },
  {
   "cell_type": "markdown",
   "id": "4a2ac486",
   "metadata": {},
   "source": [
    "### **Epsilon-greedy Strategy**\n",
    "* Explore with probablity epsilon\n",
    "* Exploit with probablity 1-epslion\n",
    "* Ensures continous exploration while using knowledge\\\n",
    "![image](4.png)"
   ]
  },
  {
   "cell_type": "markdown",
   "id": "cce54557",
   "metadata": {},
   "source": [
    "### **Decayed epsilon-greedy strategy**\n",
    "* Reduces epsilon over time\n",
    "* More exploration initially allowing the agent to gather more information about environment\n",
    "* More exploitation later on\n",
    "* Agent increasingly relies on its accumulated knowledge"
   ]
  },
  {
   "cell_type": "markdown",
   "id": "dc8ac4bc",
   "metadata": {},
   "source": [
    "## **Implementation with Frozen Lake**"
   ]
  },
  {
   "cell_type": "code",
   "execution_count": 10,
   "id": "6d22d88d",
   "metadata": {},
   "outputs": [],
   "source": [
    "import numpy as np\n",
    "import gymnasium as gym"
   ]
  },
  {
   "cell_type": "code",
   "execution_count": 11,
   "id": "ac3881f7",
   "metadata": {},
   "outputs": [],
   "source": [
    "#creating a frozen lake environment\n",
    "env=gym.make('FrozenLake-v1',is_slippery=True)\n",
    "action_size=env.action_space.n\n",
    "state_size=env.observation_space.n"
   ]
  },
  {
   "cell_type": "code",
   "execution_count": 12,
   "id": "2a4c0cc0",
   "metadata": {},
   "outputs": [],
   "source": [
    "epsilon=0.9\n",
    "rewards_eps_greedy=[]"
   ]
  },
  {
   "cell_type": "code",
   "execution_count": 13,
   "id": "e5901064",
   "metadata": {},
   "outputs": [],
   "source": [
    "def update_q_table(state, action, reward, next_state):\n",
    "    old_value = Q[state, action]\n",
    "    next_max = np.max(Q[next_state])\n",
    "    return (1 - alpha) * old_value + alpha * (reward + gamma * next_max)"
   ]
  },
  {
   "cell_type": "code",
   "execution_count": 14,
   "id": "a7fb0a09",
   "metadata": {},
   "outputs": [],
   "source": [
    "Q=np.zeros((state_size,action_size))#2d numpy array with intialized values to zero\n",
    "alpha=0.1\n",
    "gamma=0.9\n",
    "total_episodes=10000\n",
    "def epsilon_greedy(state):\n",
    "    if np.random.rand() < epsilon:\n",
    "        action=env.action_space.sample()#explore\n",
    "    else:\n",
    "        action=np.argmax(Q[state,:])#Exploit\n",
    "    return action\n",
    "\n",
    "\n"
   ]
  },
  {
   "cell_type": "code",
   "execution_count": 15,
   "id": "8952d4d9",
   "metadata": {},
   "outputs": [],
   "source": [
    "for episode in range(total_episodes):\n",
    "    state,info=env.reset()\n",
    "    terminated=False\n",
    "    episode_reward=0\n",
    "    while not terminated:\n",
    "        action=epsilon_greedy(state)\n",
    "        new_state,reward,terminated,truncated,info=env.step(action)\n",
    "        Q[state,action]=update_q_table(state,action,reward,new_state)\n",
    "        state=new_state\n",
    "        episode_reward+=reward\n",
    "    rewards_eps_greedy.append(episode_reward)    "
   ]
  },
  {
   "cell_type": "code",
   "execution_count": 16,
   "id": "3f01b5e1",
   "metadata": {},
   "outputs": [],
   "source": [
    "epsilon=1.0#exploration rate\n",
    "epsilon_decay=0.999\n",
    "min_epsilon=0.01\n",
    "rewards_decay_eps_greedy=[]\n",
    "for episode in range(total_episodes):\n",
    "    state,info=env.reset()\n",
    "    terminated=False\n",
    "    episode_reward=0\n",
    "    while not terminated:\n",
    "        action=epsilon_greedy(state)\n",
    "        new_state,reward,terminated,truncated,info=env.step(action)\n",
    "        episode_reward+=reward\n",
    "        Q[state,action]=update_q_table(state,action,reward,new_state)\n",
    "        state=new_state\n",
    "    rewards_decay_eps_greedy.append(episode_reward)  \n",
    "    epsilon=max(min_epsilon,epsilon*epsilon_decay)  "
   ]
  },
  {
   "cell_type": "code",
   "execution_count": 17,
   "id": "8737fd86",
   "metadata": {},
   "outputs": [],
   "source": [
    "avg_eps_greedy=np.mean(rewards_eps_greedy)\n",
    "avg_decay=np.mean(rewards_decay_eps_greedy)"
   ]
  },
  {
   "cell_type": "code",
   "execution_count": 18,
   "id": "398de368",
   "metadata": {},
   "outputs": [
    {
     "data": {
      "image/png": "[encoded data removed]",
      "text/plain": [
       "<Figure size 640x480 with 1 Axes>"
      ]
     },
     "metadata": {},
     "output_type": "display_data"
    }
   ],
   "source": [
    "import matplotlib.pyplot as plt\n",
    "plt.bar(['Epsilon Greedy','Decayed Epsilon Greedy'],[avg_eps_greedy,avg_decay],color=['blue','green'])\n",
    "plt.title('Average reward per episode')\n",
    "plt.show()"
   ]
  },
  {
   "cell_type": "code",
   "execution_count": null,
   "id": "ec49f3fb",
   "metadata": {},
   "outputs": [],
   "source": []
  }
 ],
 "metadata": {
  "kernelspec": {
   "display_name": "Python 3",
   "language": "python",
   "name": "python3"
  },
  "language_info": {
   "codemirror_mode": {
    "name": "ipython",
    "version": 3
   },
   "file_extension": ".py",
   "mimetype": "text/x-python",
   "name": "python",
   "nbconvert_exporter": "python",
   "pygments_lexer": "ipython3",
   "version": "3.12.4"
  }
 },
 "nbformat": 4,
 "nbformat_minor": 5
}
