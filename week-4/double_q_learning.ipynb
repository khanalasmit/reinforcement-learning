{
 "cells": [
  {
   "cell_type": "markdown",
   "id": "ee79f41b",
   "metadata": {},
   "source": [
    "## **DOUBLE Q-LEARNING**"
   ]
  },
  {
   "cell_type": "markdown",
   "id": "8fe02626",
   "metadata": {},
   "source": [
    "### **Q-Learning**\n",
    "* Estimates optimal action-values function\n",
    "* It has tendency to overestimates by updating based on max Q.\n",
    "* Might learn to suboptimal policy learning(especially in the environments with noisy and stochastic rewards).\n"
   ]
  },
  {
   "cell_type": "markdown",
   "id": "468c15ce",
   "metadata": {},
   "source": [
    "### **Double Q-Learning**\n",
    "* Maintains two Q tables.\n",
    "* It maintains Q0 and Q1 . Each table is updated using information from other, thus reducing the risk of overestimating Q-values.\\\n",
    "*The key insight behind Double Q-learning is that by splitting the maximization step between two tables, we obtain a more accurate estimate of the action-value function.*\\\n",
    "**To update the Q-value for the chosen action:**\n",
    "* Randomly select a table.\\\n",
    "![image](3.png)"
   ]
  },
  {
   "cell_type": "markdown",
   "id": "21956c57",
   "metadata": {},
   "source": [
    "Let's say it picks Q0. It then uses Q0 to determine the best next action but updates its value based on the reward observed and the estimated value of the next action from Q1."
   ]
  },
  {
   "cell_type": "markdown",
   "id": "e59bf5c7",
   "metadata": {},
   "source": [
    "$$\n",
    "Q_o(s,a)=(1-\\alpha)Q_o(s,a)+\\alpha[r+\\gamma Q_1(s',max_{a})]\n",
    "$$"
   ]
  },
  {
   "cell_type": "markdown",
   "id": "9b2f6993",
   "metadata": {},
   "source": [
    "If it picks Q1, it uses Q1 to determine the best next action but it updates the Q-value based on the reward observed and the estimated value of the next action from Q0."
   ]
  },
  {
   "cell_type": "markdown",
   "id": "179cae53",
   "metadata": {},
   "source": [
    "### **Double q-learning**\n",
    "* reduces overestimates bias\n",
    "* alternates between Q0 and Q1 updates.\n",
    "* ensures both q-tables contribute to learning process"
   ]
  },
  {
   "cell_type": "markdown",
   "id": "6a1f4d21",
   "metadata": {},
   "source": [
    "## **Implementation with forzen lake environment**"
   ]
  },
  {
   "cell_type": "markdown",
   "id": "53328567",
   "metadata": {},
   "source": []
  }
 ],
 "metadata": {
  "language_info": {
   "name": "python"
  }
 },
 "nbformat": 4,
 "nbformat_minor": 5
}
