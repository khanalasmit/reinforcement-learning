{
 "cells": [
  {
   "cell_type": "markdown",
   "id": "b1c4d3e8",
   "metadata": {},
   "source": [
    "# **EXPECTED SARSA**"
   ]
  },
  {
   "cell_type": "markdown",
   "id": "c454463d",
   "metadata": {},
   "source": [
    "It is the temporal difference learning method used in the model free learning. Expected SARSA, like its counterparts SARSA and Q-learning, is a Temporal Difference or TD learning method used in model-free RL, where we start by initializing a Q-table. Then, repeatedly, the agent chooses an action, receives a reward, and updates the table, until convergence is achieved. However, the key distinction of Expected SARSA over SARSA and Q-learning lies in its update rule."
   ]
  },
  {
   "cell_type": "markdown",
   "id": "8825de40",
   "metadata": {},
   "source": [
    "**Expected SARSA update**\\\n",
    "While SARSA relies on the actual next action taken to update Q-values, and while Q-learning updates Q-values based on the maximum reward attainable from the next state, regardless of the policy being followed, Expected SARSA calculates the expected value of the next state based on all possible actions. This makes Expected SARSA more robust to changes and uncertainties, as it considers the average outcome of all possible next actions according to the current policy."
   ]
  },
  {
   "cell_type": "markdown",
   "id": "edbfc884",
   "metadata": {},
   "source": [
    "**Expected value of next sate**\\\n",
    "Expected SARSA's formula reflects this approach by focusing on the expected value of the next state. This is achieved by calculating the sum of the Q-values from all possible actions initiated from this state. Each Q-value is weighted by the probability of its corresponding action being selected under the current policy. In our context, since actions are chosen randomly for now when training, it means they have an equal probability of being selected. Therefore, the expected value simplifies to the mean of the Q-values for all actions in the next state."
   ]
  },
  {
   "cell_type": "markdown",
   "id": "12d93aa8",
   "metadata": {},
   "source": [
    "### **Implementation in Frozen Lake**"
   ]
  },
  {
   "cell_type": "code",
   "execution_count": 1,
   "id": "132f10bf",
   "metadata": {},
   "outputs": [],
   "source": [
    "import gymnasium as gym\n",
    "import numpy as np"
   ]
  },
  {
   "cell_type": "code",
   "execution_count": null,
   "id": "bb54f0db",
   "metadata": {},
   "outputs": [],
   "source": [
    "env=gym.make('FrozenLake-v1',is_slippery=False)\n",
    "num_states=env.observation_space.n\n"
   ]
  }
 ],
 "metadata": {
  "kernelspec": {
   "display_name": "Python 3",
   "language": "python",
   "name": "python3"
  },
  "language_info": {
   "codemirror_mode": {
    "name": "ipython",
    "version": 3
   },
   "file_extension": ".py",
   "mimetype": "text/x-python",
   "name": "python",
   "nbconvert_exporter": "python",
   "pygments_lexer": "ipython3",
   "version": "3.12.4"
  }
 },
 "nbformat": 4,
 "nbformat_minor": 5
}
