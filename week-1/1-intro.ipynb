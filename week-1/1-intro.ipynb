{
 "cells": [
  {
   "cell_type": "markdown",
   "id": "71319877",
   "metadata": {},
   "source": [
    "## **Reinforcement learning**"
   ]
  },
  {
   "cell_type": "markdown",
   "id": "9015bcdc",
   "metadata": {},
   "source": [
    "* Agent learns through trial and error\n",
    "* Agent receives :\n",
    "    - Rewards for good decisions\n",
    "    - Penalties for bad decison\n",
    "* **Goal** :maximize positive feedback over time\n"
   ]
  },
  {
   "cell_type": "markdown",
   "id": "772371f9",
   "metadata": {},
   "source": [
    "### **RL vs other types of machine leaning**\n"
   ]
  },
  {
   "cell_type": "markdown",
   "id": "79dc93a4",
   "metadata": {},
   "source": [
    "||Supervised Learning|Unsupervised Learning|Reinforcement Learning|\n",
    "|---|--|--|--|\n",
    "|**Data type**|Labled data|Unlabeled data|No predefined training data|\n",
    "|**Main objective**|Predict outcome based on observed data|Discovering undelying patterns or associations in data|Make decisions that maximize reward from the environment|\n",
    "|**Suitability**|Classification,regression|Clustering, association analysis|Decsion-making tasks|"
   ]
  },
  {
   "cell_type": "markdown",
   "id": "b1756485",
   "metadata": {},
   "source": [
    "### **When to use RL?**\n"
   ]
  },
  {
   "cell_type": "markdown",
   "id": "488f8ea9",
   "metadata": {},
   "source": [
    "* Sequential decison making\n",
    "    - Decisons influence future observations\n",
    "* Learning through reward and penalties\n"
   ]
  },
  {
   "cell_type": "markdown",
   "id": "3a9a1a59",
   "metadata": {},
   "source": [
    "### **Approprate for RL:Playing video games**"
   ]
  },
  {
   "cell_type": "markdown",
   "id": "ed0fda41",
   "metadata": {},
   "source": [
    "* Players makes sequential decisons\n",
    "* Receive points and loses life depending upon action\n"
   ]
  },
  {
   "cell_type": "markdown",
   "id": "42a7de70",
   "metadata": {},
   "source": [
    "### **RL Applications**"
   ]
  },
  {
   "cell_type": "markdown",
   "id": "4206b775",
   "metadata": {},
   "source": [
    "* **Robotics**\n",
    "    - Robot walking\n",
    "    - Object manipulation\n",
    "\n",
    "* **Finance**\n",
    "    - Optimize trading and environment\n",
    "\n",
    "* **Autonomous Vehicles**\n",
    "    - Ehnance saftey and efficiency\n",
    "    - Minimizing accidental risks"
   ]
  },
  {
   "cell_type": "markdown",
   "id": "507883a7",
   "metadata": {},
   "source": []
  }
 ],
 "metadata": {
  "language_info": {
   "name": "python"
  }
 },
 "nbformat": 4,
 "nbformat_minor": 5
}
